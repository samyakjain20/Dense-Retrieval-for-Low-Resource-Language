{
  "nbformat": 4,
  "nbformat_minor": 0,
  "metadata": {
    "colab": {
      "provenance": [],
      "gpuType": "T4"
    },
    "kernelspec": {
      "name": "python3",
      "display_name": "Python 3"
    },
    "language_info": {
      "name": "python"
    },
    "accelerator": "GPU"
  },
  "cells": [
    {
      "cell_type": "code",
      "execution_count": 1,
      "metadata": {
        "colab": {
          "base_uri": "https://localhost:8080/"
        },
        "id": "ijgHcV70hkhx",
        "outputId": "8a0d2182-cf45-42cb-d10e-5be42e3b8f81"
      },
      "outputs": [
        {
          "output_type": "stream",
          "name": "stdout",
          "text": [
            "Collecting transformers\n",
            "  Downloading transformers-4.34.0-py3-none-any.whl (7.7 MB)\n",
            "\u001b[2K     \u001b[90m━━━━━━━━━━━━━━━━━━━━━━━━━━━━━━━━━━━━━━━━\u001b[0m \u001b[32m7.7/7.7 MB\u001b[0m \u001b[31m27.7 MB/s\u001b[0m eta \u001b[36m0:00:00\u001b[0m\n",
            "\u001b[?25hRequirement already satisfied: filelock in /usr/local/lib/python3.10/dist-packages (from transformers) (3.12.4)\n",
            "Collecting huggingface-hub<1.0,>=0.16.4 (from transformers)\n",
            "  Downloading huggingface_hub-0.18.0-py3-none-any.whl (301 kB)\n",
            "\u001b[2K     \u001b[90m━━━━━━━━━━━━━━━━━━━━━━━━━━━━━━━━━━━━━━━━\u001b[0m \u001b[32m302.0/302.0 kB\u001b[0m \u001b[31m31.7 MB/s\u001b[0m eta \u001b[36m0:00:00\u001b[0m\n",
            "\u001b[?25hRequirement already satisfied: numpy>=1.17 in /usr/local/lib/python3.10/dist-packages (from transformers) (1.23.5)\n",
            "Requirement already satisfied: packaging>=20.0 in /usr/local/lib/python3.10/dist-packages (from transformers) (23.2)\n",
            "Requirement already satisfied: pyyaml>=5.1 in /usr/local/lib/python3.10/dist-packages (from transformers) (6.0.1)\n",
            "Requirement already satisfied: regex!=2019.12.17 in /usr/local/lib/python3.10/dist-packages (from transformers) (2023.6.3)\n",
            "Requirement already satisfied: requests in /usr/local/lib/python3.10/dist-packages (from transformers) (2.31.0)\n",
            "Collecting tokenizers<0.15,>=0.14 (from transformers)\n",
            "  Downloading tokenizers-0.14.1-cp310-cp310-manylinux_2_17_x86_64.manylinux2014_x86_64.whl (3.8 MB)\n",
            "\u001b[2K     \u001b[90m━━━━━━━━━━━━━━━━━━━━━━━━━━━━━━━━━━━━━━━━\u001b[0m \u001b[32m3.8/3.8 MB\u001b[0m \u001b[31m58.3 MB/s\u001b[0m eta \u001b[36m0:00:00\u001b[0m\n",
            "\u001b[?25hCollecting safetensors>=0.3.1 (from transformers)\n",
            "  Downloading safetensors-0.4.0-cp310-cp310-manylinux_2_17_x86_64.manylinux2014_x86_64.whl (1.3 MB)\n",
            "\u001b[2K     \u001b[90m━━━━━━━━━━━━━━━━━━━━━━━━━━━━━━━━━━━━━━━━\u001b[0m \u001b[32m1.3/1.3 MB\u001b[0m \u001b[31m58.2 MB/s\u001b[0m eta \u001b[36m0:00:00\u001b[0m\n",
            "\u001b[?25hRequirement already satisfied: tqdm>=4.27 in /usr/local/lib/python3.10/dist-packages (from transformers) (4.66.1)\n",
            "Requirement already satisfied: fsspec>=2023.5.0 in /usr/local/lib/python3.10/dist-packages (from huggingface-hub<1.0,>=0.16.4->transformers) (2023.6.0)\n",
            "Requirement already satisfied: typing-extensions>=3.7.4.3 in /usr/local/lib/python3.10/dist-packages (from huggingface-hub<1.0,>=0.16.4->transformers) (4.5.0)\n",
            "Collecting huggingface-hub<1.0,>=0.16.4 (from transformers)\n",
            "  Downloading huggingface_hub-0.17.3-py3-none-any.whl (295 kB)\n",
            "\u001b[2K     \u001b[90m━━━━━━━━━━━━━━━━━━━━━━━━━━━━━━━━━━━━━━━━\u001b[0m \u001b[32m295.0/295.0 kB\u001b[0m \u001b[31m28.2 MB/s\u001b[0m eta \u001b[36m0:00:00\u001b[0m\n",
            "\u001b[?25hRequirement already satisfied: charset-normalizer<4,>=2 in /usr/local/lib/python3.10/dist-packages (from requests->transformers) (3.3.0)\n",
            "Requirement already satisfied: idna<4,>=2.5 in /usr/local/lib/python3.10/dist-packages (from requests->transformers) (3.4)\n",
            "Requirement already satisfied: urllib3<3,>=1.21.1 in /usr/local/lib/python3.10/dist-packages (from requests->transformers) (2.0.6)\n",
            "Requirement already satisfied: certifi>=2017.4.17 in /usr/local/lib/python3.10/dist-packages (from requests->transformers) (2023.7.22)\n",
            "Installing collected packages: safetensors, huggingface-hub, tokenizers, transformers\n",
            "Successfully installed huggingface-hub-0.17.3 safetensors-0.4.0 tokenizers-0.14.1 transformers-4.34.0\n",
            "Requirement already satisfied: tqdm in /usr/local/lib/python3.10/dist-packages (4.66.1)\n",
            "Collecting datasets\n",
            "  Downloading datasets-2.14.5-py3-none-any.whl (519 kB)\n",
            "\u001b[2K     \u001b[90m━━━━━━━━━━━━━━━━━━━━━━━━━━━━━━━━━━━━━━━━\u001b[0m \u001b[32m519.6/519.6 kB\u001b[0m \u001b[31m6.1 MB/s\u001b[0m eta \u001b[36m0:00:00\u001b[0m\n",
            "\u001b[?25hRequirement already satisfied: numpy>=1.17 in /usr/local/lib/python3.10/dist-packages (from datasets) (1.23.5)\n",
            "Requirement already satisfied: pyarrow>=8.0.0 in /usr/local/lib/python3.10/dist-packages (from datasets) (9.0.0)\n",
            "Collecting dill<0.3.8,>=0.3.0 (from datasets)\n",
            "  Downloading dill-0.3.7-py3-none-any.whl (115 kB)\n",
            "\u001b[2K     \u001b[90m━━━━━━━━━━━━━━━━━━━━━━━━━━━━━━━━━━━━━━━━\u001b[0m \u001b[32m115.3/115.3 kB\u001b[0m \u001b[31m9.5 MB/s\u001b[0m eta \u001b[36m0:00:00\u001b[0m\n",
            "\u001b[?25hRequirement already satisfied: pandas in /usr/local/lib/python3.10/dist-packages (from datasets) (1.5.3)\n",
            "Requirement already satisfied: requests>=2.19.0 in /usr/local/lib/python3.10/dist-packages (from datasets) (2.31.0)\n",
            "Requirement already satisfied: tqdm>=4.62.1 in /usr/local/lib/python3.10/dist-packages (from datasets) (4.66.1)\n",
            "Requirement already satisfied: xxhash in /usr/local/lib/python3.10/dist-packages (from datasets) (3.4.1)\n",
            "Collecting multiprocess (from datasets)\n",
            "  Downloading multiprocess-0.70.15-py310-none-any.whl (134 kB)\n",
            "\u001b[2K     \u001b[90m━━━━━━━━━━━━━━━━━━━━━━━━━━━━━━━━━━━━━━━━\u001b[0m \u001b[32m134.8/134.8 kB\u001b[0m \u001b[31m10.3 MB/s\u001b[0m eta \u001b[36m0:00:00\u001b[0m\n",
            "\u001b[?25hRequirement already satisfied: fsspec[http]<2023.9.0,>=2023.1.0 in /usr/local/lib/python3.10/dist-packages (from datasets) (2023.6.0)\n",
            "Requirement already satisfied: aiohttp in /usr/local/lib/python3.10/dist-packages (from datasets) (3.8.6)\n",
            "Requirement already satisfied: huggingface-hub<1.0.0,>=0.14.0 in /usr/local/lib/python3.10/dist-packages (from datasets) (0.17.3)\n",
            "Requirement already satisfied: packaging in /usr/local/lib/python3.10/dist-packages (from datasets) (23.2)\n",
            "Requirement already satisfied: pyyaml>=5.1 in /usr/local/lib/python3.10/dist-packages (from datasets) (6.0.1)\n",
            "Requirement already satisfied: attrs>=17.3.0 in /usr/local/lib/python3.10/dist-packages (from aiohttp->datasets) (23.1.0)\n",
            "Requirement already satisfied: charset-normalizer<4.0,>=2.0 in /usr/local/lib/python3.10/dist-packages (from aiohttp->datasets) (3.3.0)\n",
            "Requirement already satisfied: multidict<7.0,>=4.5 in /usr/local/lib/python3.10/dist-packages (from aiohttp->datasets) (6.0.4)\n",
            "Requirement already satisfied: async-timeout<5.0,>=4.0.0a3 in /usr/local/lib/python3.10/dist-packages (from aiohttp->datasets) (4.0.3)\n",
            "Requirement already satisfied: yarl<2.0,>=1.0 in /usr/local/lib/python3.10/dist-packages (from aiohttp->datasets) (1.9.2)\n",
            "Requirement already satisfied: frozenlist>=1.1.1 in /usr/local/lib/python3.10/dist-packages (from aiohttp->datasets) (1.4.0)\n",
            "Requirement already satisfied: aiosignal>=1.1.2 in /usr/local/lib/python3.10/dist-packages (from aiohttp->datasets) (1.3.1)\n",
            "Requirement already satisfied: filelock in /usr/local/lib/python3.10/dist-packages (from huggingface-hub<1.0.0,>=0.14.0->datasets) (3.12.4)\n",
            "Requirement already satisfied: typing-extensions>=3.7.4.3 in /usr/local/lib/python3.10/dist-packages (from huggingface-hub<1.0.0,>=0.14.0->datasets) (4.5.0)\n",
            "Requirement already satisfied: idna<4,>=2.5 in /usr/local/lib/python3.10/dist-packages (from requests>=2.19.0->datasets) (3.4)\n",
            "Requirement already satisfied: urllib3<3,>=1.21.1 in /usr/local/lib/python3.10/dist-packages (from requests>=2.19.0->datasets) (2.0.6)\n",
            "Requirement already satisfied: certifi>=2017.4.17 in /usr/local/lib/python3.10/dist-packages (from requests>=2.19.0->datasets) (2023.7.22)\n",
            "Requirement already satisfied: python-dateutil>=2.8.1 in /usr/local/lib/python3.10/dist-packages (from pandas->datasets) (2.8.2)\n",
            "Requirement already satisfied: pytz>=2020.1 in /usr/local/lib/python3.10/dist-packages (from pandas->datasets) (2023.3.post1)\n",
            "Requirement already satisfied: six>=1.5 in /usr/local/lib/python3.10/dist-packages (from python-dateutil>=2.8.1->pandas->datasets) (1.16.0)\n",
            "Installing collected packages: dill, multiprocess, datasets\n",
            "Successfully installed datasets-2.14.5 dill-0.3.7 multiprocess-0.70.15\n",
            "Mounted at /content/drive\n",
            "cuda\n"
          ]
        }
      ],
      "source": [
        "import torch\n",
        "import torch.nn as nn\n",
        "import torch.nn.functional as F\n",
        "from tqdm import tqdm\n",
        "import math\n",
        "import numpy as np\n",
        "\n",
        "!pip install transformers\n",
        "\n",
        "from transformers import AutoTokenizer, AutoConfig, AutoModel\n",
        "from transformers import BertTokenizer, BertModel\n",
        "\n",
        "\n",
        "!pip install tqdm\n",
        "!pip install datasets\n",
        "import json\n",
        "from tqdm import tqdm\n",
        "from datasets import Dataset as ds\n",
        "import random\n",
        "import json\n",
        "\n",
        "import os  # when loading file paths\n",
        "import pandas as pd  # for lookup in annotation file\n",
        "import torch\n",
        "from torch.nn.utils.rnn import pad_sequence  # pad batch\n",
        "from torch.utils.data import DataLoader, Dataset\n",
        "\n",
        "from google.colab import drive\n",
        "drive.mount('/content/drive')\n",
        "\n",
        "device = torch.device('cuda' if torch.cuda.is_available() else 'cpu')\n",
        "print(device)"
      ]
    },
    {
      "cell_type": "code",
      "source": [],
      "metadata": {
        "id": "_44dEmeLiI2C"
      },
      "execution_count": 1,
      "outputs": []
    },
    {
      "cell_type": "code",
      "source": [
        "# file_path = r\"/content/drive/MyDrive/IRE/project/train_chaii_hi_1.json\"\n",
        "# train_file_path = r\"/content/drive/MyDrive/IRE/project/train.json\"\n",
        "# test_file_path = r\"/content/drive/MyDrive/IRE/project/test.json\"\n",
        "\n",
        "file_path = r\"/content/drive/MyDrive/IRE/train_chaii_hi_1.json\"\n",
        "train_file_path = r\"/content/drive/MyDrive/IRE/train.json\"\n",
        "test_file_path = r\"/content/drive/MyDrive/IRE/test.json\""
      ],
      "metadata": {
        "id": "ttW7wioCTaPh"
      },
      "execution_count": 2,
      "outputs": []
    },
    {
      "cell_type": "code",
      "source": [
        "def load_data(file):\n",
        "\n",
        "  # Specify the path to your JSON file\n",
        "  json_file_path = file\n",
        "  # Initialize an empty dictionary\n",
        "  data = {}\n",
        "\n",
        "  # Load the JSON data into the dictionary\n",
        "  try:\n",
        "      with open(json_file_path, \"r\") as json_file:\n",
        "          data = json.load(json_file)\n",
        "      print(\"JSON file loaded successfully into a dictionary.\")\n",
        "  except FileNotFoundError:\n",
        "      print(f\"Error: JSON file '{json_file_path}' not found.\")\n",
        "  except json.JSONDecodeError as e:\n",
        "      print(f\"Error decoding JSON: {e}\")\n",
        "  except Exception as e:\n",
        "      print(f\"An error occurred: {e}\")\n",
        "\n",
        "  return data\n",
        "\n",
        "train_dict = load_data(train_file_path)\n",
        "test_dict = load_data(test_file_path)\n",
        "print(\"len(train_dict): \", len(train_dict))\n",
        "print(\"len(test_dict): \", len(test_dict))\n",
        "\n",
        "chai_dataset = {\n",
        "  \"train\": {\"question\": [], \"positivie_context\": [], \"negative_context\": []},\n",
        "  \"test\": {\"question\": [], \"positivie_context\": [], \"negative_context\": []},\n",
        "}\n",
        "\n",
        "def get_data(split_type, dict_type, chai_dataset, k):\n",
        "\n",
        "  question_list = []\n",
        "  positive_contest_list = []\n",
        "  negative_contest_list = []\n",
        "  random_seed = 42\n",
        "  random.seed(random_seed)\n",
        "  for i in dict_type:\n",
        "    question_list.append(i['question'])\n",
        "    positive_contest_list.append(i[\"positive_ctxs\"][0]['text'])\n",
        "\n",
        "  for i in range(len(positive_contest_list)):\n",
        "    list1 =[]\n",
        "    for j in range(len(positive_contest_list)):\n",
        "      if(i!=j):\n",
        "        list1.append(positive_contest_list[j])\n",
        "    list1 = random.choices(list1, k=k)\n",
        "    negative_contest_list.append(list1[:])\n",
        "\n",
        "  for i in range(len(question_list)):\n",
        "    chai_dataset[split_type][\"question\"] = question_list\n",
        "    chai_dataset[split_type][\"positivie_context\"] = positive_contest_list\n",
        "    chai_dataset[split_type][\"negative_context\"] = negative_contest_list\n",
        "\n",
        "#build train\n",
        "get_data(\"train\", train_dict, chai_dataset, 10)\n",
        "\n",
        "#build test\n",
        "get_data(\"test\", test_dict, chai_dataset, 10)\n",
        "\n",
        "class chaiDataset(Dataset):\n",
        "  def __init__(self, dataset_object, split_type):\n",
        "    #convert list to pandas datafraame\n",
        "    #create new df\n",
        "    # split_type = 'train'\n",
        "\n",
        "    self.df = pd.DataFrame({'question':dataset_object[split_type]['question'],'positivie_context':dataset_object[split_type]['positivie_context'],'negative_context':dataset_object[split_type]['negative_context']})\n",
        "    # print (\"df:\",self.df)\n",
        "\n",
        "    # Get question columns\n",
        "    self.question = self.df[\"question\"]\n",
        "    # Get positive_context columns\n",
        "    self.positivie_context = self.df[\"positivie_context\"]\n",
        "    # Get the negative_context columns\n",
        "    self.negative_context = self.df[\"negative_context\"]\n",
        "\n",
        "  def __len__(self):\n",
        "    return len(self.df)\n",
        "\n",
        "  def __getitem__(self, index):\n",
        "    question = self.question[index]\n",
        "    positive_context = self.positivie_context[index]\n",
        "    negative_context = self.negative_context[index]\n",
        "\n",
        "    return question, positive_context\n",
        "\n",
        "def get_loader(\n",
        "    dataset_object,\n",
        "    split_type,\n",
        "    batch_size=1,\n",
        "    shuffle=True,\n",
        "):\n",
        "  dataset = chaiDataset(chai_dataset, split_type)\n",
        "\n",
        "  loader = DataLoader(\n",
        "      dataset=dataset,\n",
        "      batch_size=batch_size,\n",
        "      shuffle=shuffle,\n",
        "  )\n",
        "\n",
        "  return loader, dataset"
      ],
      "metadata": {
        "id": "MMbf4inPZUFz",
        "colab": {
          "base_uri": "https://localhost:8080/"
        },
        "outputId": "161b8fa1-b985-453c-ccbe-4a662529b1a8"
      },
      "execution_count": 3,
      "outputs": [
        {
          "output_type": "stream",
          "name": "stdout",
          "text": [
            "JSON file loaded successfully into a dictionary.\n",
            "JSON file loaded successfully into a dictionary.\n",
            "len(train_dict):  596\n",
            "len(test_dict):  149\n"
          ]
        }
      ]
    },
    {
      "cell_type": "code",
      "source": [
        "test_dataset_object = chai_dataset[\"test\"]\n",
        "train_dataset_object = chai_dataset[\"train\"]\n",
        "test_split_type = \"test\"\n",
        "train_split_type = \"train\"\n",
        "batch_size = 8\n",
        "test_dataloader, test_dataset = get_loader(test_dataset_object, test_split_type, batch_size)\n",
        "train_dataloader, train_dataset = get_loader(train_dataset_object, train_split_type, batch_size)"
      ],
      "metadata": {
        "id": "9cxcQbnuZ0gP"
      },
      "execution_count": 4,
      "outputs": []
    },
    {
      "cell_type": "code",
      "source": [],
      "metadata": {
        "id": "44B0FrVPgx8C"
      },
      "execution_count": 4,
      "outputs": []
    },
    {
      "cell_type": "code",
      "source": [
        "class Encoder(nn.Module):\n",
        "    def __init__(self, model_name):\n",
        "        super(Encoder, self).__init__()\n",
        "        # cfg_name = \"bert-base-uncased\"\n",
        "        # self.tokenizer = AutoTokenizer.from_pretrained(model_name)\n",
        "        self.tokenizer = BertTokenizer.from_pretrained(model_name)\n",
        "        cfg = AutoConfig.from_pretrained(model_name)\n",
        "        # self.BertModel= AutoModel.from_pretrained(model_name, config=cfg) # , project_dim=projection_dim, **kwargs\n",
        "        self.BertModel = BertModel.from_pretrained(model_name)\n",
        "\n",
        "    def forward(self, x):\n",
        "        # inputs = tokenizer(x, return_tensors='pt')\n",
        "        # print(\"x = \", x)\n",
        "        # input_ids = self.tokenizer.encode(x, add_special_tokens=True, return_tensors='pt')\n",
        "        # print(\"tokenized x shape = \", input_ids.shape)\n",
        "        # input_ids = x.unsqueeze(0)\n",
        "        # print(\"tokenized x = \", input_ids)\n",
        "        tokenized_batch = self.tokenizer(x, padding=True, truncation=True, add_special_tokens=True, return_tensors='pt')\n",
        "\n",
        "        input_ids = tokenized_batch['input_ids']\n",
        "        # print(\"input_ids shape  \", input_ids.shape)\n",
        "        attention_mask = tokenized_batch['attention_mask']\n",
        "        token_type_ids = tokenized_batch['token_type_ids']\n",
        "        # print(\"outputs shape = \", outputs.shape)\n",
        "\n",
        "        input_ids = input_ids.to(device)\n",
        "        attention_mask = attention_mask.to(device)\n",
        "        token_type_ids = token_type_ids.to(device)\n",
        "\n",
        "        outputs = self.BertModel(input_ids=input_ids, attention_mask=attention_mask, token_type_ids=token_type_ids)\n",
        "\n",
        "        cls_embeddings = outputs.last_hidden_state[:, 0, :]\n",
        "        # print(\"cls shape = \", cls_embeddings.shape)\n",
        "        # cls_embeddings = cls_embeddings.reshape(cls_embeddings.size()[1])\n",
        "        # print(\"output shape= \", outputs.shape)\n",
        "        # print(\"outputs = \", outputs)\n",
        "        # out  = outputs[0]\n",
        "        # print(\"first output shape= \", cls_embeddings.shape)\n",
        "        # print(\"first output = \", cls_embeddings)\n",
        "        return cls_embeddings"
      ],
      "metadata": {
        "id": "KuVy3vFLiI_d"
      },
      "execution_count": 5,
      "outputs": []
    },
    {
      "cell_type": "code",
      "source": [
        "class BiEncoder(nn.Module):\n",
        "    def __init__(self, model_name):\n",
        "        super(BiEncoder, self).__init__()\n",
        "        self.model_name = model_name\n",
        "        self.Q_Encoder = Encoder(model_name)\n",
        "        self.P_Encoder = Encoder(model_name)\n",
        "\n",
        "    def forward(self, question, PositiveDoc):\n",
        "        q_emb = self.Q_Encoder(question)\n",
        "        p_emb = self.P_Encoder(PositiveDoc)\n",
        "\n",
        "        # neg_embs = []\n",
        "        # for NegativeDoc in NegativeDocs:\n",
        "        #     n_emb = self.P_Encoder(NegativeDoc)\n",
        "        #     neg_embs.append(n_emb)\n",
        "\n",
        "        return  q_emb, p_emb"
      ],
      "metadata": {
        "id": "orELS0YyDYxF"
      },
      "execution_count": 6,
      "outputs": []
    },
    {
      "cell_type": "code",
      "source": [
        "# def CalculateSim(a, b):\n",
        "#     a = a.numpy()\n",
        "#     b = b.numpy()\n",
        "#     return np.dot(a, b)\n",
        "\n",
        "\n",
        "# def RetrieveSimilarityScores(q_emb, p_emb, n_embs):\n",
        "#     Similarity_Scores = []\n",
        "\n",
        "#     Similarity_Scores.append(CalculateSim(q_emb, p_emb))\n",
        "#     for n_emb in n_embs:\n",
        "#         Similarity_Scores.append(CalculateSim(q_emb, p_emb))\n",
        "\n",
        "#     return np.array(Similarity_Scores)"
      ],
      "metadata": {
        "id": "lsRiZ_pYF8RO"
      },
      "execution_count": 7,
      "outputs": []
    },
    {
      "cell_type": "code",
      "source": [
        "# class CustomLoss(nn.Module):\n",
        "#     def __init__(self):\n",
        "#         super(CustomLoss, self).__init__()\n",
        "#         # sftmax = nn.softmmax(dim=-1)\n",
        "\n",
        "#     def forward(self, q_emb, p_emb):\n",
        "#         Similarity_Scores = []\n",
        "\n",
        "#         Similarity_Scores.append(self.CalculateSim(q_emb, p_emb))\n",
        "#         # for n_emb in n_embs:\n",
        "#         #     Similarity_Scores.append(self.CalculateSim(q_emb, n_emb))\n",
        "\n",
        "#         # Similarity_Scores = np.array(Similarity_Scores)\n",
        "#         # Similarity_Scores = np.exp(Similarity_Scores)\n",
        "\n",
        "#         num  = Similarity_Scores[0]\n",
        "#         den = np.sum(Similarity_Scores)\n",
        "#         loss = -1 * math.log(num/den)\n",
        "\n",
        "#         return torch.tensor(loss)\n",
        "\n",
        "#     def CalculateSim(self, _a, _b):\n",
        "#         a = _a\n",
        "#         b = _b\n",
        "#         a = a.detach().numpy()\n",
        "#         # print(a.shape)\n",
        "#         # print(b.shape)\n",
        "#         b = b.detach().numpy()\n",
        "#         return np.dot(a, b)\n"
      ],
      "metadata": {
        "id": "pr-5ZMdlKw31"
      },
      "execution_count": 8,
      "outputs": []
    },
    {
      "cell_type": "code",
      "source": [
        "EPOCHS = 5\n",
        "model_name = \"bert-base-multilingual-uncased\"\n",
        "model = BiEncoder(model_name).to(device)\n",
        "# model"
      ],
      "metadata": {
        "id": "u4vanvpAZ6ed"
      },
      "execution_count": 24,
      "outputs": []
    },
    {
      "cell_type": "code",
      "source": [
        "def Train_BiEncoder(p_model, Dataloader, loss_func, optimizer):\n",
        "    TotalLoss = 0\n",
        "    for q, p_ctx in tqdm(Dataloader):\n",
        "\n",
        "        optimizer.zero_grad()\n",
        "        q = list(q)\n",
        "        p_ctx = list(p_ctx)\n",
        "        # q = q.to(device)\n",
        "        # p_ctx = p_ctx.to(device)\n",
        "        q_emb, p_emb = p_model(q, p_ctx)\n",
        "\n",
        "        # print(\"q: \", q_emb.shape)\n",
        "        # print(p_emb.shape)\n",
        "        p_emb = torch.transpose(p_emb, 0, 1)\n",
        "        r = torch.matmul(q_emb, p_emb)\n",
        "        softmax_scores = F.log_softmax(r, dim=1)\n",
        "        positive_idx_per_question = [x for x in range(softmax_scores.size(0))]\n",
        "\n",
        "        # list(map(lambda x : x in for x in range(softmax_scores.size(0))))\n",
        "\n",
        "        loss = F.nll_loss(\n",
        "            softmax_scores,\n",
        "            torch.tensor(positive_idx_per_question).to(softmax_scores.device),\n",
        "            reduction=\"mean\",\n",
        "        )\n",
        "        # loss = loss_func(q_emb, p_emb, n_embs)\n",
        "        TotalLoss  = TotalLoss + loss.item()\n",
        "\n",
        "        loss.backward()\n",
        "        optimizer.step()\n",
        "\n",
        "    return TotalLoss"
      ],
      "metadata": {
        "id": "pIJn2Cceb6X9"
      },
      "execution_count": 10,
      "outputs": []
    },
    {
      "cell_type": "code",
      "source": [
        "import matplotlib.pyplot as plt\n",
        "\n",
        "def LoadOrTrainModel(p_model, Dataloader, loss_function, optimizer, SavedModel = None):\n",
        "    # Loading Model\n",
        "\n",
        "    if SavedModel != None:\n",
        "        p_model = torch.load(SavedModel).to(device)\n",
        "        print(\"Model Loaded succesfully\")\n",
        "        return p_model\n",
        "\n",
        "    # Training Model\n",
        "    minTrainLoss = float('inf')\n",
        "    loss = []\n",
        "    for epoch in range(EPOCHS):\n",
        "        TrainLoss = Train_BiEncoder(p_model, Dataloader, loss_function, optimizer)\n",
        "\n",
        "        print(\"EPOCH - \", epoch+1)\n",
        "        print(\"TRAIN LOSS=\", TrainLoss)\n",
        "        print(\"\")\n",
        "        if TrainLoss < minTrainLoss:\n",
        "            torch.save(p_model, 'DPR.pt')\n",
        "            minTrainLoss = TrainLoss\n",
        "            print(\"Model Saved\")\n",
        "\n",
        "        loss.append(TrainLoss)\n",
        "\n",
        "    epochs = [i+1 for i in range(EPOCHS)]\n",
        "    plt.plot(epochs, loss)\n",
        "    plt.xlabel(\"EPOCHS\")\n",
        "    plt.ylabel(\"LOSS\")\n",
        "\n",
        "    plt.show()\n",
        "\n",
        "    p_model = torch.load('DPR.pt').to(device)\n",
        "    return p_model\n",
        "\n",
        "# loss_func = CustomLoss()\n",
        "loss_func = nn.NLLLoss()\n",
        "optimizer = torch.optim.Adam(model.parameters(), lr=0.0001)\n",
        "\n",
        "model = LoadOrTrainModel(model, train_dataloader, loss_func, optimizer) #, \"/content/drive/MyDrive/IRE/DPR.pt\"\n",
        "model = model.to(device)\n"
      ],
      "metadata": {
        "id": "O2IJBk3eag8a",
        "colab": {
          "base_uri": "https://localhost:8080/",
          "height": 865
        },
        "outputId": "00c9b093-2bf2-46fe-95dd-4b980a612df3"
      },
      "execution_count": 25,
      "outputs": [
        {
          "output_type": "stream",
          "name": "stderr",
          "text": [
            "100%|██████████| 75/75 [01:43<00:00,  1.38s/it]\n"
          ]
        },
        {
          "output_type": "stream",
          "name": "stdout",
          "text": [
            "EPOCH -  1\n",
            "TRAIN LOSS= 88.23345726239495\n",
            "\n",
            "Model Saved\n"
          ]
        },
        {
          "output_type": "stream",
          "name": "stderr",
          "text": [
            "100%|██████████| 75/75 [01:41<00:00,  1.36s/it]\n"
          ]
        },
        {
          "output_type": "stream",
          "name": "stdout",
          "text": [
            "EPOCH -  2\n",
            "TRAIN LOSS= 42.86647095531225\n",
            "\n",
            "Model Saved\n"
          ]
        },
        {
          "output_type": "stream",
          "name": "stderr",
          "text": [
            "100%|██████████| 75/75 [01:41<00:00,  1.35s/it]\n"
          ]
        },
        {
          "output_type": "stream",
          "name": "stdout",
          "text": [
            "EPOCH -  3\n",
            "TRAIN LOSS= 23.535535551956855\n",
            "\n",
            "Model Saved\n"
          ]
        },
        {
          "output_type": "stream",
          "name": "stderr",
          "text": [
            "100%|██████████| 75/75 [01:38<00:00,  1.32s/it]\n"
          ]
        },
        {
          "output_type": "stream",
          "name": "stdout",
          "text": [
            "EPOCH -  4\n",
            "TRAIN LOSS= 23.679902803181903\n",
            "\n"
          ]
        },
        {
          "output_type": "stream",
          "name": "stderr",
          "text": [
            "100%|██████████| 75/75 [01:38<00:00,  1.31s/it]\n"
          ]
        },
        {
          "output_type": "stream",
          "name": "stdout",
          "text": [
            "EPOCH -  5\n",
            "TRAIN LOSS= 21.114120469021145\n",
            "\n",
            "Model Saved\n"
          ]
        },
        {
          "output_type": "display_data",
          "data": {
            "text/plain": [
              "<Figure size 640x480 with 1 Axes>"
            ],
            "image/png": "[encoded data removed]"
          },
          "metadata": {}
        }
      ]
    },
    {
      "cell_type": "code",
      "source": [
        "train_dataloader_new, train_dataset_new = get_loader(train_dataset_object, train_split_type, 1)"
      ],
      "metadata": {
        "id": "zXbZzkKtyPry"
      },
      "execution_count": 12,
      "outputs": []
    },
    {
      "cell_type": "code",
      "source": [
        "def ComputePassageEmbeddings(p_model, Dataloader):\n",
        "    Pass_Emb = []\n",
        "    Orginal_Passages = []\n",
        "    for q, p_ctx in tqdm(Dataloader):\n",
        "        q = q[0]\n",
        "        p_ctx = p_ctx[0]\n",
        "        # print(type(q))\n",
        "        # print(type(p_ctx))\n",
        "        # print(p_ctx)\n",
        "        # print(q)\n",
        "        Orginal_Passages.append(p_ctx)\n",
        "        out = p_model.P_Encoder(p_ctx)\n",
        "        out = out.cpu().detach()\n",
        "        Pass_Emb.append(out)\n",
        "        # break\n",
        "    return Orginal_Passages, Pass_Emb\n",
        "\n",
        "\n",
        "Org_Docs, SavedPassageEmbeddings = ComputePassageEmbeddings(model, train_dataloader_new)"
      ],
      "metadata": {
        "id": "GuxNwAy7bPjT",
        "colab": {
          "base_uri": "https://localhost:8080/"
        },
        "outputId": "ceb2828f-305f-4556-f6cc-d1ca0e9f55f9"
      },
      "execution_count": 13,
      "outputs": [
        {
          "output_type": "stream",
          "name": "stderr",
          "text": [
            "100%|██████████| 596/596 [00:54<00:00, 10.99it/s]\n"
          ]
        }
      ]
    },
    {
      "cell_type": "code",
      "source": [
        "def RetrieveTopKDocuments(p_model, Question, SavedPassageEmbeddings, Org_Docs, TopK):\n",
        "    q_emb = p_model.Q_Encoder(Question)\n",
        "    q_emb = q_emb.cpu().detach()\n",
        "    sim_Dict = {}\n",
        "\n",
        "    retrievedDocs = []\n",
        "    for i in range(len(SavedPassageEmbeddings)):\n",
        "        sim_Dict[i] = CalculateSim(q_emb, SavedPassageEmbeddings[i])\n",
        "\n",
        "    sorted_SimDict = dict(sorted(sim_Dict.items(), key=lambda x:x[1], reverse=True)[:TopK])\n",
        "\n",
        "    for i, k in enumerate(sorted_SimDict.keys()):\n",
        "        print(\"RANK -\", i+1, \" -> Document - \", k, )\n",
        "        # print(Org_Docs[k])\n",
        "        # print()\n",
        "        retrievedDocs.append(Org_Docs[k])\n",
        "\n",
        "    return retrievedDocs\n",
        "\n",
        "def CalculateSim(a, b):\n",
        "        return torch.matmul(a, b.transpose(0, 1))\n",
        "        # a = a.numpy()\n",
        "        # b = b.numpy()\n",
        "        # return np.dot(a, b)"
      ],
      "metadata": {
        "id": "DOZO8ZuZchhd"
      },
      "execution_count": 20,
      "outputs": []
    },
    {
      "cell_type": "code",
      "source": [
        "Question = \"विद्याधर शास्त्री को भारत के राष्ट्रपति द्वारा किस उपाधि से सम्मानित किया गया था?\"\n",
        "\n",
        "dos = RetrieveTopKDocuments(model, Question, SavedPassageEmbeddings, Org_Docs, 3)"
      ],
      "metadata": {
        "id": "UmpgrDR8bPmv",
        "colab": {
          "base_uri": "https://localhost:8080/"
        },
        "outputId": "3139f586-b7fb-484b-e347-f94c6f642872"
      },
      "execution_count": 21,
      "outputs": [
        {
          "output_type": "stream",
          "name": "stdout",
          "text": [
            "RANK - 1  -> Document -  577\n",
            "RANK - 2  -> Document -  127\n",
            "RANK - 3  -> Document -  155\n"
          ]
        }
      ]
    },
    {
      "cell_type": "code",
      "source": [
        "Question = \"चीन के सर्वप्रथम जनकवि किसे माना जाता हैं?\"\n",
        "\n",
        "dos = RetrieveTopKDocuments(model, Question, SavedPassageEmbeddings, Org_Docs, 3)"
      ],
      "metadata": {
        "colab": {
          "base_uri": "https://localhost:8080/"
        },
        "id": "w3dI66oG4HZP",
        "outputId": "09c613f2-2e40-45e1-8182-c0107c3971e6"
      },
      "execution_count": 22,
      "outputs": [
        {
          "output_type": "stream",
          "name": "stdout",
          "text": [
            "RANK - 1  -> Document -  253\n",
            "RANK - 2  -> Document -  470\n",
            "RANK - 3  -> Document -  477\n"
          ]
        }
      ]
    },
    {
      "cell_type": "code",
      "source": [
        "Question = \"अर्नेस्ट रदरफोर्ड, किस पेशे से सम्बंधित थे?\"\n",
        "\n",
        "dos = RetrieveTopKDocuments(model, Question, SavedPassageEmbeddings, Org_Docs, 3)"
      ],
      "metadata": {
        "colab": {
          "base_uri": "https://localhost:8080/"
        },
        "id": "o7MJD1hV4Hsn",
        "outputId": "de50e9bb-62b6-466a-9c14-9700c77937df"
      },
      "execution_count": 23,
      "outputs": [
        {
          "output_type": "stream",
          "name": "stdout",
          "text": [
            "RANK - 1  -> Document -  142\n",
            "RANK - 2  -> Document -  323\n",
            "RANK - 3  -> Document -  334\n"
          ]
        }
      ]
    },
    {
      "cell_type": "code",
      "source": [],
      "metadata": {
        "id": "A2STkSzdqIbl"
      },
      "execution_count": null,
      "outputs": []
    },
    {
      "cell_type": "code",
      "source": [
        "enc = Encoder(\"bert-base-multilingual-uncased\").to(device)\n",
        "\n",
        "li = [\"यह हिंदी में एक उदाहरण पाठ है जिसके लिए हम एम्बेडिंग चाहते हैं।\", \"यह हिंदी में एक उदाहरण पाठ है जिसके लिए हम एम्बेडिंग चाहते हैं।\", \"यह हिंदी में एक उदाहरण पाठ है जिसके लिए हम एम्बेडिंग चाहते हैं।\"]\n",
        "\n",
        "t = enc(\"यह हिंदी में एक उदाहरण पाठ है जिसके लिए हम एम्बेडिंग चाहते हैं।\")\n",
        "print(t.shape, t)"
      ],
      "metadata": {
        "id": "kqT3STUfq2UC",
        "colab": {
          "base_uri": "https://localhost:8080/"
        },
        "outputId": "e041b2cf-a72c-4d09-d4bc-82429ad187a0"
      },
      "execution_count": null,
      "outputs": [
        {
          "output_type": "stream",
          "name": "stdout",
          "text": [
            "torch.Size([1, 768]) tensor([[-4.9894e-02, -8.0586e-03,  3.8345e-02, -1.2520e-02, -3.0353e-01,\n",
            "          3.4672e-02, -6.1347e-02, -2.8250e-02, -1.9716e+00, -2.6257e-02,\n",
            "         -7.3716e-02, -1.1618e-01,  4.5818e-02,  2.1139e-02,  7.3459e-02,\n",
            "          1.8165e-01,  8.6634e-02, -1.6661e-02, -2.4273e-02, -9.5362e-02,\n",
            "         -6.2225e-02,  9.8234e-02, -1.2547e-02, -1.1346e-01,  5.2281e-01,\n",
            "         -4.5976e-02,  5.6888e-02, -1.1539e-02, -2.1525e+00,  3.0079e-02,\n",
            "         -2.5891e-01,  7.1424e-02, -5.9477e-02,  7.7307e-03,  4.6159e-03,\n",
            "         -4.9036e-02,  4.5733e-02,  1.5815e+00, -6.5619e-02, -8.1851e-02,\n",
            "         -5.5727e-03,  5.4165e-02, -1.2148e-01,  1.1054e-01, -2.3002e-02,\n",
            "         -9.9618e-02,  6.5950e-03,  3.1343e-03, -2.9284e-02, -4.9691e-02,\n",
            "         -7.5719e-02,  1.5607e-01, -2.7144e-02, -3.0273e-02, -5.1044e-02,\n",
            "         -1.1327e-02, -6.5412e-02,  5.4875e-03,  5.8851e-02,  6.7002e-02,\n",
            "          1.8865e+00,  8.5250e-02, -7.7812e-02,  4.9610e-02, -2.6498e-03,\n",
            "          2.8578e-02, -9.7442e-02,  3.9104e-02,  1.2862e-02, -7.6049e-03,\n",
            "         -1.4537e-03,  7.5637e-03, -8.4414e-03, -7.9188e-02, -3.5133e-02,\n",
            "         -5.3034e-02,  4.1017e-01,  7.5666e-03,  5.6625e-02, -1.1196e-02,\n",
            "          7.1250e-03,  2.3167e-02, -2.1470e-01,  3.2827e-02, -1.8195e-01,\n",
            "          4.5455e-02,  6.9723e-02,  2.5997e-02, -1.0054e-01, -1.8194e-01,\n",
            "          3.5440e-01, -1.3215e-01,  7.6367e-03,  1.2740e-01, -1.3958e-02,\n",
            "         -2.1599e-02, -9.8014e-02,  1.8613e+00,  6.5740e-03,  1.5595e-01,\n",
            "          1.2484e-01,  8.8397e-02, -6.9297e-02, -5.0949e-02,  1.0373e-01,\n",
            "          2.1738e-02,  1.3841e-02,  6.4094e-02, -6.6742e-02, -3.7211e-02,\n",
            "          7.2704e-01, -2.6460e-01,  2.7694e-02, -8.1284e-02,  1.6297e-02,\n",
            "         -9.1493e-02, -3.6741e-02, -4.9007e-02, -7.2457e-02, -1.6474e-02,\n",
            "         -4.4004e-02,  1.7761e+00, -4.6971e-02, -3.0641e-01, -2.2277e-01,\n",
            "          4.2435e-02, -1.4705e-01,  6.0781e-02,  1.5864e-01, -7.3479e-02,\n",
            "         -7.1529e-03, -5.9708e-03,  1.1231e+00, -7.6668e-02,  8.0855e-02,\n",
            "         -3.5429e-02, -1.5780e-01, -1.0051e-01,  2.4757e-01,  1.4286e-02,\n",
            "         -8.8171e-03, -1.3666e-01, -5.7485e-03, -2.9002e-03,  1.3638e-02,\n",
            "          1.5235e-02,  9.6155e-02, -7.1586e-03,  4.2391e-02,  9.4811e-03,\n",
            "         -1.1258e-01,  9.6028e-02, -2.0796e-02, -7.8772e-02,  8.6469e-03,\n",
            "          2.9832e-03, -1.0836e-02, -4.9267e-01,  5.8065e-02, -3.1081e+00,\n",
            "         -2.8277e-02,  5.7374e-02,  3.0011e-02,  5.2003e-02,  1.2443e+00,\n",
            "          4.7122e-02, -1.3386e-02,  7.4773e-02, -8.1445e-02,  1.2633e-02,\n",
            "         -8.1660e-02,  8.0133e-02,  2.6954e-02, -2.2731e-02, -1.8076e-01,\n",
            "          1.1628e-01, -1.6205e-02, -1.8087e-01, -7.8153e-02, -1.1583e-02,\n",
            "          2.1035e-02,  1.7448e-01, -1.2346e-01,  1.2061e-01, -2.7293e-04,\n",
            "          8.2942e-02, -5.1385e-02, -6.0646e-02, -4.0518e-03, -2.0201e-01,\n",
            "          8.0835e-02,  3.9318e-02,  3.9353e-02,  2.3890e-02, -9.6208e-03,\n",
            "         -1.0272e-01,  4.7968e-02,  4.6667e-02, -1.8701e-01,  1.3457e-01,\n",
            "         -7.8771e-02,  2.2726e-02,  1.1922e-02,  1.5388e-01, -3.7406e-02,\n",
            "         -6.3768e-02, -1.6246e-01, -2.2155e-02,  8.9289e-02,  2.2904e-02,\n",
            "          1.4779e-02, -3.4169e-02, -9.7008e-02, -5.4413e-02, -8.5850e-02,\n",
            "          2.1228e-02, -1.0585e-01,  2.8821e-02, -1.1367e-02,  1.4251e-01,\n",
            "          1.1808e-03, -2.4351e-02,  7.7796e-03,  1.0933e-01, -5.3377e-02,\n",
            "         -4.9170e-03, -4.1670e-02,  2.0730e-02, -8.0457e-02, -1.7514e-03,\n",
            "         -3.1569e-02, -2.8347e-02, -7.5316e-02,  8.2782e-03,  2.3576e-02,\n",
            "         -2.4299e-01, -3.2222e-02,  6.8101e-02,  9.6766e-03, -6.6572e-03,\n",
            "          5.9935e-02, -2.3653e-02,  5.5481e-02, -1.2785e-02,  1.6454e+00,\n",
            "          1.3361e-01,  1.0417e-02, -2.6905e-02,  6.4103e-02, -9.7627e-02,\n",
            "          1.0527e-01,  6.2835e-02, -1.6388e+00,  1.0367e-01, -1.3349e-01,\n",
            "          3.2908e-02,  1.9131e-01, -8.7717e-02, -3.9215e-02,  7.4749e-02,\n",
            "         -1.5279e+00, -1.6147e-02,  4.8490e-02, -4.1701e-02, -5.4163e-02,\n",
            "         -1.4821e-01,  4.3904e-02, -2.2994e-02, -1.1048e-01, -1.1717e-01,\n",
            "          1.5307e-02,  7.3443e-02, -1.3067e-01, -1.2360e-02,  1.0655e-01,\n",
            "         -8.5726e-02,  3.8412e-02,  8.0296e-02, -2.5033e-02, -9.2840e-02,\n",
            "         -1.0052e-01, -2.0148e-01, -2.2809e-02,  1.0527e-02,  3.4376e-02,\n",
            "         -1.4034e-01,  9.4794e-02,  9.2651e-02,  3.9633e-02,  4.7708e-02,\n",
            "         -2.9104e+00,  9.7637e-02,  2.4422e-01,  1.9103e-02,  3.6685e-02,\n",
            "         -3.3131e-02, -6.3502e-02,  1.7125e-01,  1.0895e-02, -1.2797e-01,\n",
            "         -2.4616e-02, -1.3457e-01,  4.1177e-02, -1.2158e-02,  1.9901e-03,\n",
            "         -1.1102e-01,  3.6713e-02,  1.0994e-01, -4.5873e-01,  5.3934e-02,\n",
            "         -1.5697e+00,  9.8147e-03, -1.3382e-01,  9.9351e-03, -1.3702e-01,\n",
            "         -3.4862e-02,  6.1564e-02,  1.6149e-02, -1.4606e-01, -9.4768e-02,\n",
            "          1.0897e-01,  7.3110e-02,  7.0361e-04,  2.8128e-03,  4.6296e-02,\n",
            "         -1.5086e-02, -8.3199e-03,  2.0613e-01,  9.7628e-04, -9.3598e-02,\n",
            "          2.6111e-02,  4.6812e-02, -3.4980e-02, -8.0550e-02, -2.7906e-02,\n",
            "         -8.3881e-02,  1.3958e-01, -8.4291e-02,  3.7596e-02,  1.2506e-01,\n",
            "         -7.8242e-02, -6.0326e-03, -2.2878e-02, -9.3783e-02,  9.3975e-02,\n",
            "         -1.1691e-01,  2.5053e-02, -1.1009e-01, -1.2401e-01, -1.2965e-02,\n",
            "         -7.4512e-02, -9.6158e-02, -1.3993e-02, -1.4272e-01,  4.4263e-02,\n",
            "         -8.8786e-02, -1.4864e-02,  3.9982e-02,  1.1231e-01,  5.4194e-02,\n",
            "         -6.2043e-02,  4.8467e-02, -3.9752e-02,  7.5454e-02,  1.9984e-02,\n",
            "         -2.2003e+00, -3.0052e-02,  8.3015e-02, -6.6742e-02, -1.8866e-03,\n",
            "          2.7594e-02, -3.5624e-02,  9.9482e-01,  3.2636e-02, -1.0403e-01,\n",
            "          1.4698e-02,  2.5171e-02,  2.5981e-02, -3.5630e-01, -3.3031e-02,\n",
            "         -4.8956e-02,  9.4203e-03, -5.5591e-02,  5.5172e-02, -1.1514e-02,\n",
            "         -9.3564e-02, -7.9035e-02,  5.2016e-02, -8.4009e-02,  1.4534e-02,\n",
            "         -4.3732e-02,  5.3551e-02, -2.0006e-02, -4.0020e-01,  5.1808e-03,\n",
            "         -6.6025e-01,  7.3765e-02, -1.8239e-02, -6.2115e-02,  8.2132e-01,\n",
            "         -7.7699e-02, -4.6555e-02,  2.9194e-03,  1.6323e+00, -5.8075e-03,\n",
            "         -7.6419e-03,  5.9945e-02,  4.3102e-01,  8.4744e-02, -7.7544e-01,\n",
            "         -2.0520e+00, -4.7088e-02,  4.4609e-02, -2.8589e+00, -1.5846e-02,\n",
            "         -4.7091e-02,  1.7139e-02, -2.7941e-02, -4.0152e-01,  5.0908e-02,\n",
            "          1.3046e-01, -1.8647e+00,  1.0808e-01, -1.6173e-01,  1.1907e-01,\n",
            "         -1.6921e-01,  2.2629e-02,  1.5934e-01,  1.3670e+00,  7.8208e-02,\n",
            "          2.2211e-02,  5.3960e-02,  1.1118e-02, -5.3386e-02, -1.2888e-02,\n",
            "         -6.1910e-02,  1.8150e-01,  5.6127e-02, -3.4009e-02, -5.5850e-02,\n",
            "         -2.3038e-03, -9.5237e-02, -6.9227e-02, -4.7087e-03, -1.5577e-01,\n",
            "          3.0469e-02, -4.0163e-05,  2.5858e+00,  2.4522e-02,  6.4195e-02,\n",
            "          4.6198e-02,  4.2559e-03,  5.8869e-02,  3.4336e-02,  2.2657e-02,\n",
            "          4.3936e-02,  2.7873e-02,  4.4918e-02,  8.0432e-03,  2.0408e+00,\n",
            "         -6.4922e-02,  3.5577e-02,  1.3200e-03,  2.3543e-01, -7.9349e-02,\n",
            "          5.1557e-02,  7.4618e-03,  3.3142e-02,  7.9136e-02,  1.4301e-02,\n",
            "          1.6379e-01,  4.7212e-01, -1.4035e-01, -3.0065e-03,  4.5460e-02,\n",
            "          4.0468e-02,  5.0182e-02,  2.1185e-03, -3.0261e-01,  2.3520e-04,\n",
            "         -1.2694e-02, -7.4994e-02, -9.4842e-03,  4.5079e-02,  3.8718e-02,\n",
            "         -2.8255e-02,  3.1923e-02,  1.4427e-01, -1.3063e-02,  3.2686e-02,\n",
            "         -5.3179e-02, -5.5543e-02,  8.6456e-02, -1.2077e-02, -1.3652e+00,\n",
            "         -1.0877e-01, -4.6650e-02, -1.1940e-01,  8.8392e-02,  1.5379e+00,\n",
            "          5.7351e-02,  6.9252e-03, -5.2212e-02, -3.1488e-02, -5.7945e-03,\n",
            "         -6.3026e-02,  1.6458e+00, -2.8519e-02, -4.3807e-02, -2.7171e-02,\n",
            "          3.2643e-02,  6.9069e-02, -3.0324e-02,  3.1042e-02,  5.3697e-03,\n",
            "          2.2207e-02,  8.0219e-02,  7.8244e-02,  2.8082e-02,  2.4584e-02,\n",
            "          5.5738e-02, -1.0928e-01, -2.2834e-02, -1.1464e-01,  6.2663e-02,\n",
            "          8.2975e-02, -2.2785e-02, -4.4048e-03, -3.5625e-02,  1.6737e+00,\n",
            "          1.8770e-02,  6.7865e-02,  1.9394e-02, -1.4017e-01, -1.3063e-01,\n",
            "          3.2742e-02,  1.1489e-01,  7.8211e-02,  1.1354e-01, -1.7459e-02,\n",
            "         -6.4002e-02, -9.6915e-02, -6.9540e-02,  1.3605e+00,  4.8016e-03,\n",
            "          9.5436e-02, -3.9948e-01,  5.5468e-01,  3.6227e-02, -7.3117e-02,\n",
            "         -2.5751e-01, -5.6868e-02,  1.3595e-01,  4.2476e-03,  1.3868e-02,\n",
            "          4.9578e-01, -7.7699e-03,  6.4725e-02, -1.1450e-01, -1.9042e-01,\n",
            "          9.5977e-02, -4.0804e-03, -9.5846e-02, -2.4899e+00, -9.7783e-02,\n",
            "          7.6514e-02,  2.7196e-03, -4.1596e-02,  7.7599e-03, -4.5896e-04,\n",
            "          7.4420e-02,  9.3002e-02, -1.1851e-01, -1.5497e-02,  6.3288e-02,\n",
            "          6.4415e-02,  4.0152e-02, -7.7966e-02, -1.5660e-01, -1.3852e-02,\n",
            "          4.6957e-03,  1.8134e-01,  3.8197e-02,  9.8809e-02,  9.3664e-02,\n",
            "          1.0303e-01, -2.7621e-02,  6.2648e-03, -1.4166e-02, -2.1649e-01,\n",
            "         -1.1932e-01,  4.5938e-02,  1.3951e-01,  7.8761e-03,  8.0490e-02,\n",
            "         -6.9817e-02, -6.5340e-02, -2.9403e-03,  8.7554e-02,  5.1724e-01,\n",
            "         -1.1318e+00,  8.9034e-02,  5.6975e-03,  1.1775e-01,  1.4258e+00,\n",
            "          5.3984e-02,  6.9471e-02, -6.4886e-02, -7.0441e-02,  7.2376e-02,\n",
            "         -2.2721e-03,  1.5522e-02, -8.2434e-02,  1.0632e-01,  5.6823e-02,\n",
            "         -2.8327e-02, -8.8274e-02,  1.2704e-01, -9.4942e-03, -3.3627e-02,\n",
            "          1.1973e-01, -2.7847e-02, -7.2032e-04,  9.1128e-02,  4.9002e-02,\n",
            "          3.3237e-02, -5.7721e-02,  7.2405e-02, -6.2015e-04, -4.4783e-03,\n",
            "         -1.7590e+00, -7.9371e-02, -8.5901e-02,  3.3020e-02,  2.6825e-02,\n",
            "         -8.3156e-02,  1.1665e+00,  3.6480e-02, -1.9410e-02, -5.4078e-02,\n",
            "          1.5149e-01,  1.8516e+00, -1.2475e-01, -6.9553e-04,  9.0401e-02,\n",
            "         -3.6530e-01, -1.3450e-02, -4.0149e-02,  4.6511e-02, -3.8282e-02,\n",
            "         -2.0316e+00,  2.7888e-02,  9.1602e-02,  3.4790e-02, -1.6657e+00,\n",
            "         -5.1545e-02,  6.3694e-03, -3.1192e-02,  4.9566e-02,  1.1728e-01,\n",
            "         -4.9741e-02,  1.5721e-01, -1.3131e-01, -4.9222e-02,  3.6036e-02,\n",
            "         -1.2986e-02,  2.3153e-02, -1.2589e-01,  1.4236e+00, -2.2474e+00,\n",
            "          3.6616e-03, -1.5327e-01, -2.5337e-03, -7.6331e-02,  3.6641e-02,\n",
            "          1.4564e-01,  1.7760e+00, -1.0274e-03,  7.2369e-02, -4.5546e-02,\n",
            "          7.7723e-02,  5.8486e-02,  5.0744e-03, -7.1158e-02, -8.0687e-02,\n",
            "         -3.8707e-03,  8.0466e-02, -3.8959e-02,  2.0885e-02,  1.5367e-01,\n",
            "         -2.7702e-02,  8.4943e-02, -7.9945e-02, -1.7831e+00,  1.7601e-02,\n",
            "         -1.6214e-02, -3.2282e-02, -1.3603e-01,  2.2439e+00, -2.9342e-02,\n",
            "          9.6302e-02,  2.5821e-02,  6.0762e-02,  2.0335e-03,  7.1751e-02,\n",
            "         -6.0409e-02, -1.3968e-01,  7.8780e-02, -6.4032e-02, -7.2014e-01,\n",
            "          7.1458e-03,  1.8184e-02,  5.6819e-02, -1.9154e-02,  4.9799e-02,\n",
            "         -8.9825e-02, -1.8282e-01, -9.4104e-03,  1.4586e-01, -6.7158e-02,\n",
            "          1.8611e-02, -1.0655e-01, -9.8918e-03,  1.0455e-01, -3.4393e-02,\n",
            "         -9.1326e-03, -1.4349e-02,  1.1412e-01, -1.7622e+00,  3.1052e-02,\n",
            "          1.1883e-01,  1.6073e+00,  1.3117e-01, -1.7572e-01,  1.4277e+00,\n",
            "          1.0995e-02, -1.3312e-02,  2.8660e-02, -1.1352e-02, -7.3976e-02,\n",
            "          8.7294e-02, -5.2071e-02, -1.8316e+00, -2.2732e+00, -1.6982e-02,\n",
            "          2.0873e-02,  1.0168e-01, -1.5150e-03,  4.8992e-03,  1.2470e-02,\n",
            "         -3.7744e-02, -7.3346e-02,  4.6409e-02, -3.6062e-02, -6.4777e-02,\n",
            "          7.5763e-02, -2.7951e-02,  1.1805e+00, -2.5984e-02,  2.0671e+00,\n",
            "         -1.3666e-01, -7.6956e-02,  1.0104e-02, -2.9068e-02, -1.1292e-01,\n",
            "         -3.8220e-02, -7.3203e-02,  1.4263e-02]], device='cuda:0',\n",
            "       grad_fn=<SliceBackward0>)\n"
          ]
        }
      ]
    },
    {
      "cell_type": "code",
      "source": [
        "print(enc)"
      ],
      "metadata": {
        "id": "zb5KkXEbss-S"
      },
      "execution_count": null,
      "outputs": []
    }
  ]
}